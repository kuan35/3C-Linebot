{
 "cells": [
  {
   "cell_type": "code",
   "execution_count": 1,
   "metadata": {},
   "outputs": [],
   "source": [
    "import os\n",
    "import requests\n",
    "from bs4 import BeautifulSoup\n",
    "from flask import Flask, request, abort\n",
    "from linebot.v3 import WebhookHandler\n",
    "from linebot.v3.exceptions import InvalidSignatureError\n",
    "from linebot.v3.messaging import Configuration, ApiClient, MessagingApi, ReplyMessageRequest, TextMessage\n",
    "from linebot.v3.webhooks import MessageEvent, TextMessageContent\n",
    "\n",
    "line_access_token = os.environ.get('LINE_ACCESS_TOKEN')\n",
    "line_secret = os.environ.get('LINE_SECRET')\n",
    "port = 5000\n",
    "\n",
    "configuration = Configuration(access_token=line_access_token)\n",
    "handler = WebhookHandler(line_secret)\n"
   ]
  },
  {
   "cell_type": "code",
   "execution_count": 2,
   "metadata": {},
   "outputs": [],
   "source": [
    "ngrok_key = os.environ.get('NGROK_KEY')\n",
    "port = 5000"
   ]
  },
  {
   "cell_type": "code",
   "execution_count": 3,
   "metadata": {},
   "outputs": [
    {
     "name": "stdout",
     "output_type": "stream",
     "text": [
      "https://ab5c-2001-b011-1-52ea-951-a08f-d1f9-3eae.ngrok-free.app\n"
     ]
    }
   ],
   "source": [
    "from pyngrok import ngrok\n",
    "ngrok.set_auth_token(ngrok_key)\n",
    "tunnel = ngrok.connect(5000, name=\"linebot_tunnel\")\n",
    "print(tunnel.public_url)"
   ]
  },
  {
   "cell_type": "code",
   "execution_count": 4,
   "metadata": {},
   "outputs": [],
   "source": [
    "def get_latest_article():\n",
    "    url = 'https://ccc.technews.tw/'\n",
    "    response = requests.get(url)\n",
    "    if response.status_code != 200:\n",
    "        return \"無法存取該網址。\"\n",
    "    else:\n",
    "        soup = BeautifulSoup(response.text, 'html.parser')\n",
    "        latest_article = soup.find('div', class_='content')\n",
    "        if latest_article:\n",
    "            title = latest_article.find('h1', class_='entry-title').text.strip()\n",
    "            link = latest_article.find('a')['href']\n",
    "            return f\"{title}\\n{link}\"\n",
    "        else:\n",
    "            return \"找不到最新文章。\"\n"
   ]
  },
  {
   "cell_type": "code",
   "execution_count": 5,
   "metadata": {},
   "outputs": [
    {
     "name": "stdout",
     "output_type": "stream",
     "text": [
      "狗狗幣本尊 Kabosu 過世！迷因始祖走了 $DOGE 劇烈波動\n",
      "https://ccc.technews.tw/2024/05/24/kabosu-the-prototype-of-the-dogecoin-meme-pass-away/\n"
     ]
    }
   ],
   "source": [
    "latest_info = get_latest_article()\n",
    "print(latest_info)"
   ]
  },
  {
   "cell_type": "code",
   "execution_count": 6,
   "metadata": {},
   "outputs": [
    {
     "name": "stdout",
     "output_type": "stream",
     "text": [
      " * Serving Flask app '__main__'\n",
      " * Debug mode: off\n"
     ]
    },
    {
     "name": "stderr",
     "output_type": "stream",
     "text": [
      "WARNING: This is a development server. Do not use it in a production deployment. Use a production WSGI server instead.\n",
      " * Running on http://127.0.0.1:5000\n",
      "Press CTRL+C to quit\n",
      "127.0.0.1 - - [25/May/2024 15:42:01] \"POST / HTTP/1.1\" 200 -\n",
      "127.0.0.1 - - [25/May/2024 15:42:12] \"POST / HTTP/1.1\" 200 -\n",
      "127.0.0.1 - - [25/May/2024 15:42:15] \"POST / HTTP/1.1\" 200 -\n",
      "127.0.0.1 - - [25/May/2024 15:42:18] \"POST / HTTP/1.1\" 200 -\n",
      "127.0.0.1 - - [25/May/2024 15:42:21] \"POST / HTTP/1.1\" 200 -\n",
      "127.0.0.1 - - [25/May/2024 15:42:32] \"POST / HTTP/1.1\" 200 -\n",
      "127.0.0.1 - - [25/May/2024 15:42:46] \"POST / HTTP/1.1\" 200 -\n",
      "127.0.0.1 - - [25/May/2024 15:42:59] \"POST / HTTP/1.1\" 200 -\n",
      "127.0.0.1 - - [25/May/2024 15:43:21] \"POST / HTTP/1.1\" 200 -\n",
      "127.0.0.1 - - [25/May/2024 15:43:24] \"POST / HTTP/1.1\" 200 -\n"
     ]
    }
   ],
   "source": [
    "app = Flask(__name__)\n",
    "\n",
    "@app.route(\"/\", methods=['POST'])\n",
    "def callback():\n",
    "    signature = request.headers.get('X-Line-Signature', '')\n",
    "    body = request.get_data(as_text=True)\n",
    "\n",
    "    try:\n",
    "        handler.handle(body, signature)\n",
    "    except InvalidSignatureError:\n",
    "        abort(400)\n",
    "    return 'OK'\n",
    "\n",
    "@handler.add(MessageEvent, message=TextMessageContent)\n",
    "def handle_message(event):\n",
    "    text = event.message.text\n",
    "    if text == \"3C新聞\":\n",
    "        latest_info = get_latest_article()\n",
    "        with ApiClient(configuration) as api_client:\n",
    "            line_bot_api = MessagingApi(api_client)\n",
    "            line_bot_api.reply_message_with_http_info(\n",
    "                ReplyMessageRequest(\n",
    "                    reply_token=event.reply_token,\n",
    "                    messages=[TextMessage(text=latest_info)]\n",
    "                )\n",
    "            )\n",
    "\n",
    "\n",
    "if __name__ == \"__main__\":\n",
    "    app.run(port=port)"
   ]
  },
  {
   "cell_type": "code",
   "execution_count": 38,
   "metadata": {},
   "outputs": [
    {
     "name": "stdout",
     "output_type": "stream",
     "text": [
      "Note: you may need to restart the kernel to use updated packages.Requirement already satisfied: requests in c:\\users\\user\\anaconda3\\envs\\linebot\\lib\\site-packages (2.31.0)\n",
      "Requirement already satisfied: beautifulsoup4 in c:\\users\\user\\anaconda3\\envs\\linebot\\lib\\site-packages (4.12.3)\n",
      "Requirement already satisfied: charset-normalizer<4,>=2 in c:\\users\\user\\anaconda3\\envs\\linebot\\lib\\site-packages (from requests) (3.3.2)\n",
      "Requirement already satisfied: idna<4,>=2.5 in c:\\users\\user\\anaconda3\\envs\\linebot\\lib\\site-packages (from requests) (3.7)\n",
      "Requirement already satisfied: urllib3<3,>=1.21.1 in c:\\users\\user\\anaconda3\\envs\\linebot\\lib\\site-packages (from requests) (2.2.1)\n",
      "Requirement already satisfied: certifi>=2017.4.17 in c:\\users\\user\\anaconda3\\envs\\linebot\\lib\\site-packages (from requests) (2024.2.2)\n",
      "Requirement already satisfied: soupsieve>1.2 in c:\\users\\user\\anaconda3\\envs\\linebot\\lib\\site-packages (from beautifulsoup4) (2.5)\n",
      "\n"
     ]
    }
   ],
   "source": [
    "pip install requests beautifulsoup4\n"
   ]
  }
 ],
 "metadata": {
  "kernelspec": {
   "display_name": "linebot",
   "language": "python",
   "name": "python3"
  },
  "language_info": {
   "codemirror_mode": {
    "name": "ipython",
    "version": 3
   },
   "file_extension": ".py",
   "mimetype": "text/x-python",
   "name": "python",
   "nbconvert_exporter": "python",
   "pygments_lexer": "ipython3",
   "version": "3.12.3"
  }
 },
 "nbformat": 4,
 "nbformat_minor": 2
}
