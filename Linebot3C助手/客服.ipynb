{
 "cells": [
  {
   "cell_type": "code",
   "execution_count": 1,
   "metadata": {},
   "outputs": [
    {
     "name": "stdout",
     "output_type": "stream",
     "text": [
      " * Serving Flask app '__main__'\n",
      " * Debug mode: off\n"
     ]
    },
    {
     "name": "stderr",
     "output_type": "stream",
     "text": [
      "WARNING: This is a development server. Do not use it in a production deployment. Use a production WSGI server instead.\n",
      " * Running on http://127.0.0.1:5000\n",
      "Press CTRL+C to quit\n",
      "127.0.0.1 - - [02/Jun/2024 04:17:05] \"POST / HTTP/1.1\" 200 -\n"
     ]
    },
    {
     "name": "stdout",
     "output_type": "stream",
     "text": [
      "BODY:  {\"destination\":\"U05f8fb23f03a1256e0ff3153571c9e24\",\"events\":[]}\n"
     ]
    }
   ],
   "source": [
    "import os\n",
    "from pyngrok import ngrok\n",
    "\n",
    "# 設定 ngrok 金鑰並啟動隧道\n",
    "\n",
    "\n",
    "# 設定 LINE 機器人金鑰和密鑰\n",
    "line_access_token = os.environ.get('LINE_ACCESS_TOKEN')\n",
    "line_secret = os.environ.get('LINE_SECRET')\n",
    "port = 5000\n",
    "\n",
    "from flask import Flask, request, abort\n",
    "from linebot.v3 import WebhookHandler\n",
    "from linebot.v3.exceptions import InvalidSignatureError\n",
    "from linebot.v3.messaging import Configuration, ApiClient, MessagingApi, ReplyMessageRequest, TextMessage\n",
    "from linebot.v3.webhooks import MessageEvent, TextMessageContent\n",
    "\n",
    "import sqlite3\n",
    "\n",
    "# 建立 Flask 應用\n",
    "app = Flask(__name__)\n",
    "\n",
    "# 配置 LINE 機器人\n",
    "configuration = Configuration(access_token=line_access_token)\n",
    "handler = WebhookHandler(line_secret)\n",
    "\n",
    "# 初始化 SQLite 資料庫連線\n",
    "conn = sqlite3.connect('reports.db', check_same_thread=False)\n",
    "cursor = conn.cursor()\n",
    "cursor.execute('''\n",
    "    CREATE TABLE IF NOT EXISTS reports (\n",
    "        id INTEGER PRIMARY KEY AUTOINCREMENT,\n",
    "        title TEXT NOT NULL,\n",
    "        content TEXT NOT NULL\n",
    "    )\n",
    "''')\n",
    "conn.commit()\n",
    "\n",
    "@app.route(\"/\", methods=['POST'])\n",
    "def callback():\n",
    "    # 獲取 X-Line-Signature 標頭的值\n",
    "    signature = request.headers['X-Line-Signature']\n",
    "\n",
    "    # 獲取請求主體作為文本\n",
    "    body = request.get_data(as_text=True)\n",
    "    print(\"BODY: \", body)\n",
    "    app.logger.info(\"Request body: \" + body)\n",
    "\n",
    "    # 處理 webhook 主體\n",
    "    try:\n",
    "        handler.handle(body, signature)\n",
    "    except InvalidSignatureError:\n",
    "        app.logger.info(\"Invalid signature. Please check your channel access token/channel secret.\")\n",
    "        abort(400)\n",
    "\n",
    "    return 'OK'\n",
    "\n",
    "@handler.add(MessageEvent, message=TextMessageContent)\n",
    "def handle_message(event):\n",
    "    # 解析用戶輸入的資料格式\n",
    "    user_input = event.message.text.split('、')\n",
    "    if len(user_input) == 2:\n",
    "        title, content = user_input\n",
    "\n",
    "        # 將資料儲存進資料庫\n",
    "        cursor.execute('INSERT INTO reports (title, content) VALUES (?, ?)', (title, content))\n",
    "        conn.commit()\n",
    "\n",
    "        # 回復用戶\n",
    "        reply_text = f\"感謝您的回報 以下是您的回報標題: {title}\"\n",
    "    else:\n",
    "        reply_text = \"請按照格式輸入: 標題、內文\"\n",
    "\n",
    "    # 回復用戶訊息\n",
    "    with ApiClient(configuration) as api_client:\n",
    "        line_bot_api = MessagingApi(api_client)\n",
    "        line_bot_api.reply_message_with_http_info(\n",
    "            ReplyMessageRequest(\n",
    "                reply_token=event.reply_token,\n",
    "                messages=[TextMessage(text=reply_text)]\n",
    "            )\n",
    "        )\n",
    "\n",
    "if __name__ == \"__main__\":\n",
    "    app.run(port=port)\n"
   ]
  }
 ],
 "metadata": {
  "kernelspec": {
   "display_name": "linebot",
   "language": "python",
   "name": "python3"
  },
  "language_info": {
   "codemirror_mode": {
    "name": "ipython",
    "version": 3
   },
   "file_extension": ".py",
   "mimetype": "text/x-python",
   "name": "python",
   "nbconvert_exporter": "python",
   "pygments_lexer": "ipython3",
   "version": "3.12.3"
  }
 },
 "nbformat": 4,
 "nbformat_minor": 2
}
