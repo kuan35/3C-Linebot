{
 "cells": [
  {
   "cell_type": "code",
   "execution_count": null,
   "metadata": {},
   "outputs": [],
   "source": [
    "# from google.colab import userdata\n",
    "\n",
    "# ngrok_key = userdata.get('ngrok_key')\n",
    "# line_access_token = userdata.get('line_access_token')\n",
    "# line_secret = userdata.get('line_secret')\n",
    "# port = 5000"
   ]
  },
  {
   "cell_type": "code",
   "execution_count": 7,
   "metadata": {},
   "outputs": [],
   "source": [
    "import os\n",
    "\n",
    "line_access_token = os.environ.get('LINE_ACCESS_TOKEN')\n",
    "line_secret = os.environ.get('LINE_SECRET')\n",
    "open_api_key = os.environ.get('OPENAI_API_KEY')\n",
    "port = 5000"
   ]
  },
  {
   "cell_type": "code",
   "execution_count": 8,
   "metadata": {},
   "outputs": [],
   "source": [
    "from openai import OpenAI\n",
    "\n",
    "client = OpenAI(api_key=open_api_key)\n",
    "def get_completion(prompt):\n",
    "    messages = [{\"role\": \"system\", \"content\": \"以下用繁體中文台灣用語回答\"}, \n",
    "                {\"role\": \"user\", \"content\": prompt}]\n",
    "    response = client.chat.completions.create(\n",
    "        model=\"gpt-3.5-turbo\",\n",
    "        messages=messages,\n",
    "        temperature=0,\n",
    "        max_tokens=256\n",
    "        \n",
    "    )\n",
    "    return response.choices[0].message.content"
   ]
  },
  {
   "cell_type": "code",
   "execution_count": 3,
   "metadata": {},
   "outputs": [
    {
     "name": "stdout",
     "output_type": "stream",
     "text": [
      "東吳大學是一所位於台灣台北市的知名私立大學，創立於1928年，是台灣歷史悠久的學府之一。東吳大學以人文學科為主，並擁有豐富的師資和研究資源。校園環境優美，教學設備完善，是許多學生夢寐以求的就讀學校之一。該校提供多元的學士、碩士和博士學位課程，並致力於培養學生的專業知識和實務能力。東吳大學也積極推動國際交流與合作，為學生提供豐富的國際\n"
     ]
    }
   ],
   "source": [
    "print(get_completion(\"簡介東吳大學\"))"
   ]
  },
  {
   "cell_type": "code",
   "execution_count": 9,
   "metadata": {},
   "outputs": [],
   "source": [
    "messages = []"
   ]
  },
  {
   "cell_type": "code",
   "execution_count": 1,
   "metadata": {},
   "outputs": [
    {
     "name": "stdout",
     "output_type": "stream",
     "text": [
      " * Serving Flask app '__main__'\n",
      " * Debug mode: off\n"
     ]
    },
    {
     "name": "stderr",
     "output_type": "stream",
     "text": [
      "C:\\Users\\USER\\AppData\\Local\\Temp\\ipykernel_25016\\2508017174.py:65: LineBotSdkDeprecatedIn30: Call to deprecated class LineBotApi. (Use v3 class; linebot.v3.<feature>. See https://github.com/line/line-bot-sdk-python/blob/master/README.rst for more details.) -- Deprecated since version 3.0.0.\n",
      "  line_bot_api = LineBotApi(line_access_token)\n",
      "C:\\Users\\USER\\AppData\\Local\\Temp\\ipykernel_25016\\2508017174.py:66: LineBotSdkDeprecatedIn30: Call to deprecated class WebhookHandler. (Use 'from linebot.v3.webhook import WebhookHandler' instead. See https://github.com/line/line-bot-sdk-python/blob/master/README.rst for more details.) -- Deprecated since version 3.0.0.\n",
      "  handler = WebhookHandler(line_secret)\n",
      "WARNING: This is a development server. Do not use it in a production deployment. Use a production WSGI server instead.\n",
      " * Running on http://127.0.0.1:5000\n",
      "Press CTRL+C to quit\n"
     ]
    },
    {
     "name": "stdout",
     "output_type": "stream",
     "text": [
      "BODY:  {\"destination\":\"U05f8fb23f03a1256e0ff3153571c9e24\",\"events\":[{\"type\":\"message\",\"message\":{\"type\":\"text\",\"id\":\"511145343971754019\",\"quoteToken\":\"7T28ExL5v_aUtPVMVUtN_u9KyVBJC9VOYswsI0WoKfMNZXHfp0jj48-u1Q9XRwWulV3jI1n0YNb1QzUdSw16OE7z1qg4IGEd7_w2Lbe9stp6piakUmJqH_XeOQ_SAuPJ6R9xydH7hAGb2FpAYl6Ybw\",\"text\":\"3C助手\"},\"webhookEventId\":\"01HZHDDBGA8ZANSY387TFRAGS6\",\"deliveryContext\":{\"isRedelivery\":false},\"timestamp\":1717497670743,\"source\":{\"type\":\"user\",\"userId\":\"U41a3c59f7352195be95161a12b9f0917\"},\"replyToken\":\"56c28a0c9d1745dcb41ef8ace2f402ae\",\"mode\":\"active\"}]}\n"
     ]
    },
    {
     "name": "stderr",
     "output_type": "stream",
     "text": [
      "C:\\Users\\USER\\AppData\\Local\\Temp\\ipykernel_25016\\2508017174.py:104: LineBotSdkDeprecatedIn30: Call to deprecated method reply_message. (Use 'from linebot.v3.messaging import MessagingApi' and 'MessagingApi(...).reply_message(...)' instead. See https://github.com/line/line-bot-sdk-python/blob/master/README.rst for more details.) -- Deprecated since version 3.0.0.\n",
      "  line_bot_api.reply_message(event.reply_token, template_message)\n",
      "127.0.0.1 - - [04/Jun/2024 18:41:11] \"POST / HTTP/1.1\" 200 -\n"
     ]
    },
    {
     "name": "stdout",
     "output_type": "stream",
     "text": [
      "BODY:  {\"destination\":\"U05f8fb23f03a1256e0ff3153571c9e24\",\"events\":[{\"type\":\"message\",\"message\":{\"type\":\"text\",\"id\":\"511145352494318134\",\"quoteToken\":\"VDRlqzBHOf_f1Nt0tl1fmYiD_HT4T51dClYsVWk-AOqqALJj4gKeL-7dT2ixSkj41TJKf92OgRR9tJ3U7Snkxd2rM9o1_HlMMH-zY3aT2a0BNZ99K9s6DO1Ty6qabpKkXIK0uXwu4iDgmoehWogNTw\",\"text\":\"選擇 GPT\"},\"webhookEventId\":\"01HZHDDG3S8XBA0TMB25Q3C6R1\",\"deliveryContext\":{\"isRedelivery\":false},\"timestamp\":1717497675656,\"source\":{\"type\":\"user\",\"userId\":\"U41a3c59f7352195be95161a12b9f0917\"},\"replyToken\":\"8fc19d05f2db409a81093f21daab6f1a\",\"mode\":\"active\"}]}\n"
     ]
    },
    {
     "name": "stderr",
     "output_type": "stream",
     "text": [
      "C:\\Users\\USER\\AppData\\Local\\Temp\\ipykernel_25016\\2508017174.py:108: LineBotSdkDeprecatedIn30: Call to deprecated method reply_message. (Use 'from linebot.v3.messaging import MessagingApi' and 'MessagingApi(...).reply_message(...)' instead. See https://github.com/line/line-bot-sdk-python/blob/master/README.rst for more details.) -- Deprecated since version 3.0.0.\n",
      "  line_bot_api.reply_message(\n",
      "127.0.0.1 - - [04/Jun/2024 18:41:16] \"POST / HTTP/1.1\" 200 -\n"
     ]
    },
    {
     "ename": "",
     "evalue": "",
     "output_type": "error",
     "traceback": [
      "\u001b[1;31m在目前儲存格或上一個儲存格中執行程式碼時，Kernel 已損毀。\n",
      "\u001b[1;31m請檢閱儲存格中的程式碼，找出失敗的可能原因。\n",
      "\u001b[1;31m如需詳細資訊，請按一下<a href='https://aka.ms/vscodeJupyterKernelCrash'>這裡</a>。\n",
      "\u001b[1;31m如需詳細資料，請檢視 Jupyter <a href='command:jupyter.viewOutput'>記錄</a>。"
     ]
    }
   ],
   "source": [
    "import os\n",
    "from flask import Flask, request, abort\n",
    "from openai import OpenAI\n",
    "from linebot import (\n",
    "    LineBotApi,\n",
    "    WebhookHandler\n",
    ")\n",
    "from linebot.exceptions import InvalidSignatureError\n",
    "from linebot.models import (\n",
    "    MessageEvent,\n",
    "    TextMessage,\n",
    "    TextSendMessage,\n",
    "    StickerMessage,\n",
    "    StickerSendMessage,\n",
    "    LocationMessage,\n",
    "    LocationSendMessage,\n",
    "    TemplateSendMessage,\n",
    "    ButtonsTemplate,\n",
    "    MessageAction\n",
    ")\n",
    "\n",
    "app = Flask(__name__)\n",
    "\n",
    "# 從環境變數中獲取 LINE 和 OpenAI 的相關憑證\n",
    "line_access_token = os.environ.get('LINE_ACCESS_TOKEN')\n",
    "line_secret = os.environ.get('LINE_SECRET')\n",
    "open_api_key = os.environ.get('OPENAI_API_KEY')\n",
    "port = 5000\n",
    "\n",
    "# 初始化 OpenAI 客戶端\n",
    "openai_client = OpenAI(api_key=open_api_key)\n",
    "taide_client = OpenAI(\n",
    "    base_url='http://120.105.97.239:11434/v1/',\n",
    "    api_key='ollama',\n",
    ")\n",
    "\n",
    "def get_gpt_completion(prompt):\n",
    "    messages = [\n",
    "        {\"role\": \"system\", \"content\": \"以下用繁體中文台灣用語回答\"},\n",
    "        {\"role\": \"user\", \"content\": prompt}\n",
    "    ]\n",
    "    response = openai_client.chat.completions.create(\n",
    "        model=\"gpt-3.5-turbo\",\n",
    "        messages=messages,\n",
    "        temperature=0,\n",
    "        max_tokens=1000\n",
    "    )\n",
    "    return response.choices[0].message.content\n",
    "\n",
    "def get_taide_completion(prompt):\n",
    "    messages = [\n",
    "        {'role': 'system', 'content': '你是一個說繁體中文的助理，只會用台灣用語，不會用中國用語'},\n",
    "        {'role': 'user', 'content': prompt}\n",
    "    ]\n",
    "    response = taide_client.chat.completions.create(\n",
    "        model='jcai/llama3-taide-lx-8b-chat-alpha1:f16',\n",
    "        messages=messages,\n",
    "    )\n",
    "    return response.choices[0].message.content\n",
    "\n",
    "messages = []\n",
    "is_ai_mode = False  # 標誌變量，跟踪是否處於 AI 對話模式\n",
    "ai_choice = None  # 用戶選擇的 AI 模型\n",
    "\n",
    "line_bot_api = LineBotApi(line_access_token)\n",
    "handler = WebhookHandler(line_secret)\n",
    "\n",
    "@app.route(\"/\", methods=['POST'])\n",
    "def callback():\n",
    "    # 獲取 X-Line-Signature 標頭的值\n",
    "    signature = request.headers['X-Line-Signature']\n",
    "\n",
    "    # 獲取請求主體為文字\n",
    "    body = request.get_data(as_text=True)\n",
    "    print(\"BODY: \", body)\n",
    "    app.logger.info(\"Request body: \" + body)\n",
    "\n",
    "    # 處理 webhook 主體\n",
    "    try:\n",
    "        handler.handle(body, signature)\n",
    "    except InvalidSignatureError:\n",
    "        app.logger.info(\"Invalid signature. Please check your channel access token/channel secret.\")\n",
    "        abort(400)\n",
    "\n",
    "    return 'OK'\n",
    "\n",
    "@handler.add(MessageEvent, message=TextMessage)\n",
    "def handle_message(event):\n",
    "    global is_ai_mode, ai_choice\n",
    "    text = event.message.text\n",
    "    if text == \"3C助手\":\n",
    "        buttons_template = ButtonsTemplate(\n",
    "            title='選擇 AI 模型',\n",
    "            text='請選擇您想要使用的 AI 模型',\n",
    "            actions=[\n",
    "                MessageAction(label='GPT', text='選擇 GPT'),\n",
    "                MessageAction(label='Taide', text='選擇 Taide')\n",
    "            ]\n",
    "        )\n",
    "        template_message = TemplateSendMessage(\n",
    "            alt_text='選擇 AI 模型',\n",
    "            template=buttons_template\n",
    "        )\n",
    "        line_bot_api.reply_message(event.reply_token, template_message)\n",
    "    elif text == \"選擇 GPT\":\n",
    "        is_ai_mode = True\n",
    "        ai_choice = \"GPT\"\n",
    "        line_bot_api.reply_message(\n",
    "            event.reply_token,\n",
    "            TextSendMessage(text=\"已進入 GPT 對話模式，請輸入您的問題。輸入 '結束' 以退出。\")\n",
    "        )\n",
    "    elif text == \"選擇 Taide\":\n",
    "        is_ai_mode = True\n",
    "        ai_choice = \"Taide\"\n",
    "        line_bot_api.reply_message(\n",
    "            event.reply_token,\n",
    "            TextSendMessage(text=\"已進入 Taide 對話模式，請輸入您的問題。輸入 '結束' 以退出。\")\n",
    "        )\n",
    "    elif text == \"結束\":\n",
    "        is_ai_mode = False\n",
    "        ai_choice = None\n",
    "        line_bot_api.reply_message(\n",
    "            event.reply_token,\n",
    "            TextSendMessage(text=\"已退出 AI 對話模式。\")\n",
    "        )\n",
    "    elif is_ai_mode:\n",
    "        prompt = text\n",
    "        messages.append(prompt)\n",
    "        prompts = \" \".join(messages)\n",
    "        if ai_choice == \"GPT\":\n",
    "            reply_text = get_gpt_completion(prompts)\n",
    "        else:\n",
    "            reply_text = get_taide_completion(prompts)\n",
    "        line_bot_api.reply_message(\n",
    "            event.reply_token,\n",
    "            TextSendMessage(text=reply_text)\n",
    "        )\n",
    "        messages.append(reply_text)\n",
    "    else:\n",
    "        line_bot_api.reply_message(\n",
    "            event.reply_token,\n",
    "            TextSendMessage(text=event.message.text)\n",
    "        )\n",
    "\n",
    "@handler.add(MessageEvent, message=StickerMessage)\n",
    "def handle_sticker_message(event):\n",
    "    line_bot_api.reply_message(\n",
    "        event.reply_token,\n",
    "        StickerSendMessage(\n",
    "            package_id=event.message.package_id,\n",
    "            sticker_id=event.message.sticker_id\n",
    "        )\n",
    "    )\n",
    "\n",
    "@handler.add(MessageEvent, message=LocationMessage)\n",
    "def handle_location_message(event):\n",
    "    line_bot_api.reply_message(\n",
    "        event.reply_token,\n",
    "        LocationSendMessage(\n",
    "            title='定位訊息',\n",
    "            address=event.message.address,\n",
    "            latitude=event.message.latitude,\n",
    "            longitude=event.message.longitude\n",
    "        )\n",
    "    )\n",
    "\n",
    "if __name__ == \"__main__\":\n",
    "    app.run(port=port)\n"
   ]
  }
 ],
 "metadata": {
  "kernelspec": {
   "display_name": "linebot",
   "language": "python",
   "name": "python3"
  },
  "language_info": {
   "codemirror_mode": {
    "name": "ipython",
    "version": 3
   },
   "file_extension": ".py",
   "mimetype": "text/x-python",
   "name": "python",
   "nbconvert_exporter": "python",
   "pygments_lexer": "ipython3",
   "version": "3.12.3"
  }
 },
 "nbformat": 4,
 "nbformat_minor": 2
}
